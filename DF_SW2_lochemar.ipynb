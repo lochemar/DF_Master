{
 "cells": [
  {
   "cell_type": "markdown",
   "id": "charged-bruce",
   "metadata": {},
   "source": [
    "Data Science Fundamentals: Exercise SW2"
   ]
  },
  {
   "cell_type": "code",
   "execution_count": null,
   "id": "smooth-cloud",
   "metadata": {},
   "outputs": [
    {
     "name": "stdout",
     "output_type": "stream",
     "text": [
      "Do you want to play a game of rock, paper scissors? Write Yes or No\n"
     ]
    }
   ],
   "source": [
    "from random import choice #to select a random element from the list \n",
    "\n",
    "choose = [\"Rock\", \"Paper\", \"Scissors\"]\n",
    "\n",
    "comp = choice(choose)\n",
    "\n",
    "print(\"Do you want to play a game of rock, paper scissors? Write Yes or No\")\n",
    "play = input()\n",
    "\n",
    "\n",
    "while(play == \"Yes\" or play == \"yes\"):\n",
    "    print(\"You go first!\")\n",
    "    comp = choice(choose)\n",
    "    user = input()\n",
    "    if comp == user:\n",
    "        print(\"Please try again! You both chose the same.\")\n",
    "    elif comp == \"Rock\" and user == \"Scissors\":\n",
    "        print(\"You lost...\", comp, \"beats\", user)\n",
    "        print(\"Do you want to play one more time?\")\n",
    "        play = input()\n",
    "    elif comp == \"Paper\" and user == \"Rock\":\n",
    "        print(\"You lost...\", comp, \"beats\", user)\n",
    "        print(\"Do you want to play one more time?\")\n",
    "        play = input()\n",
    "    elif comp == \"Scissors\" and user == \"Paper\":\n",
    "        print(\"You lost...\", comp, \"beats\", user)\n",
    "        print(\"Do you want to play one more time?\")\n",
    "        play = input()\n",
    "    else:\n",
    "        print(\"Congrats you won!\", user, \"beats\", comp)\n",
    "        print(\"Do you want to play one more time?\")\n",
    "        play = input()\n",
    "\n",
    "print(\"Thanks for playing with me!\")\n",
    "\n",
    "#inser your code here "
   ]
  },
  {
   "cell_type": "code",
   "execution_count": null,
   "id": "earlier-announcement",
   "metadata": {},
   "outputs": [],
   "source": []
  }
 ],
 "metadata": {
  "kernelspec": {
   "display_name": "Python 3",
   "language": "python",
   "name": "python3"
  },
  "language_info": {
   "codemirror_mode": {
    "name": "ipython",
    "version": 3
   },
   "file_extension": ".py",
   "mimetype": "text/x-python",
   "name": "python",
   "nbconvert_exporter": "python",
   "pygments_lexer": "ipython3",
   "version": "3.8.8"
  }
 },
 "nbformat": 4,
 "nbformat_minor": 5
}
